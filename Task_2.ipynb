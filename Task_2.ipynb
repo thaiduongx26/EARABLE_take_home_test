{
 "cells": [
  {
   "cell_type": "code",
   "execution_count": 1,
   "id": "cb01f2eb-fee2-45ed-ac74-add530fabf4f",
   "metadata": {
    "tags": []
   },
   "outputs": [],
   "source": [
    "import numpy as np\n",
    "import pandas as pd\n",
    "import mne\n",
    "import random\n",
    "import torch\n",
    "import torch.nn as nn\n",
    "import torch.optim as optim\n",
    "from glob import glob\n",
    "from mne import EpochsArray, create_info\n",
    "from mne.time_frequency import psd_array_multitaper\n",
    "from scipy.stats import pearsonr"
   ]
  },
  {
   "cell_type": "code",
   "execution_count": 3,
   "id": "4b4356bc-86b7-4ec6-8347-d4159d93e046",
   "metadata": {
    "tags": []
   },
   "outputs": [],
   "source": [
    "sfreq = 125\n",
    "# Some works mentioned alpha (8-12 Hz) and beta (12-30 Hz) bands have been associated with attentional processes and working memory.\n",
    "fmin, fmax = 8, 30\n",
    "segment_duration = 1\n",
    "sample_duration = 10\n",
    "ch_names = [\"ch1_LF5 - FpZ\", \"ch2_OTE_L-FpZ\", \"ch4_RF6-FpZ\", \"ch5_OTE_R-FpZ\"]\n",
    "stage_names = [\"Eyes closed\", \"Eyes open\", \"Concentration\", \"Immersion\"]\n",
    "stages = {\n",
    "    \"Eyes closed\": {\n",
    "        \"tmin\": 0,\n",
    "        \"tmax\": 120,\n",
    "        \"label\": 25,\n",
    "    },\n",
    "    \"Eyes open\": {\n",
    "        \"tmin\": 120,\n",
    "        \"tmax\": 240,\n",
    "        \"label\": 50,\n",
    "    },\n",
    "    \"Concentration\": {\n",
    "        \"tmin\": 240,\n",
    "        \"tmax\": 360,\n",
    "        \"label\": 75,\n",
    "    },\n",
    "    \"Immersion\": {\n",
    "        \"tmin\": 360,\n",
    "        \"tmax\": 500000,\n",
    "        \"label\": 100,\n",
    "    },\n",
    "}"
   ]
  },
  {
   "cell_type": "code",
   "execution_count": 4,
   "id": "aaa9b2b0-d9f3-41e7-8a29-5c645cb87d0b",
   "metadata": {
    "scrolled": true,
    "tags": []
   },
   "outputs": [],
   "source": [
    "def preprocessing(raw_array):\n",
    "    # Band-pass filter\n",
    "    raw_array.filter(fmin, fmax, picks='eeg')\n",
    "    # Remove artifacts, may not be necessary for this data\n",
    "    ica = mne.preprocessing.ICA(n_components=len(ch_names), random_state=0)\n",
    "    ica.fit(raw_array, picks='eeg')\n",
    "    ica.apply(raw_array)\n",
    "    return raw_array\n",
    "\n",
    "def extract_features(raw_array):\n",
    "    # Extract psd features\n",
    "    events = mne.make_fixed_length_events(raw_array, duration=segment_duration)\n",
    "    epochs = mne.Epochs(raw_array, events, tmin=0, tmax=segment_duration, baseline=None, preload=True)\n",
    "    psd_features, _ = psd_array_multitaper(epochs.get_data(), sfreq=sfreq, fmin=fmin, fmax=fmax, n_jobs=1)\n",
    "    # Concat features of 4 channels for each segment\n",
    "    n_segments, n_channels, n_features = psd_features.shape\n",
    "    n_segments_per_sample = sample_duration / segment_duration\n",
    "    n_segments = int((n_segments // n_segments_per_sample) * n_segments_per_sample)\n",
    "    psd_features = psd_features[:n_segments, :, :]\n",
    "    psd_features = psd_features.reshape((int(n_segments // n_segments_per_sample), int(n_segments_per_sample), n_channels * n_features))\n",
    "    return psd_features\n",
    "\n",
    "def extract_data_from_csv(csv_path):\n",
    "    # Create raw MNE object from data\n",
    "    df = pd.read_csv(csv_path, usecols=[0, 1, 3, 4])\n",
    "    data = np.array(df.values).T\n",
    "    print(data)\n",
    "    info = mne.create_info(ch_names=ch_names, sfreq=sfreq, ch_types='eeg')\n",
    "    raw = mne.io.RawArray(data, info)\n",
    "    \n",
    "    # Preprocessing step\n",
    "    raw = preprocessing(raw)\n",
    "    \n",
    "    # Extract the features step, features shape (n_sample, n_segments_per_sample, n_channels * n_features)\n",
    "    features = extract_features(raw)\n",
    "    \n",
    "    # Making scores groundtruth\n",
    "    labels = np.zeros((features.shape[0],))\n",
    "    for stage_name, stage_value in stages.items():\n",
    "        tmin, tmax = stage_value['tmin'], stage_value['tmax']\n",
    "        labels[tmin // sample_duration: tmax // sample_duration] = stage_names.index(stage_name)\n",
    "    \n",
    "    return features, labels"
   ]
  },
  {
   "cell_type": "code",
   "execution_count": null,
   "id": "9ef963ea-fb1c-445b-b82b-cf3b9bca404c",
   "metadata": {},
   "outputs": [],
   "source": []
  },
  {
   "cell_type": "code",
   "execution_count": 5,
   "id": "ad2a02ee-bc1a-4d36-ad99-f1ffa3d1ecf7",
   "metadata": {
    "scrolled": true,
    "tags": []
   },
   "outputs": [
    {
     "data": {
      "text/plain": [
       "['Focus_data_for testing/Copy of eeg_focus_6sessions_cut_S13.csv',\n",
       " 'Focus_data_for testing/Copy of eeg_focus_6sessions_cut_S10.csv',\n",
       " 'Focus_data_for testing/Copy of eeg_focus_6sessions_cut_S6.csv',\n",
       " 'Focus_data_for testing/Copy of eeg_focus_6sessions_cut_S7.csv',\n",
       " 'Focus_data_for testing/Copy of eeg_focus_6sessions_cut_S4.csv',\n",
       " 'Focus_data_for testing/Copy of eeg_focus_6sessions_cut_S1.csv',\n",
       " 'Focus_data_for testing/Copy of eeg_focus_6sessions_cut_S3.csv',\n",
       " 'Focus_data_for testing/Copy of eeg_focus_6sessions_cut_S2.csv',\n",
       " 'Focus_data_for testing/Copy of eeg_focus_6sessions_cut_S9.csv',\n",
       " 'Focus_data_for testing/Copy of eeg_focus_6sessions_cut_S8.csv']"
      ]
     },
     "execution_count": 5,
     "metadata": {},
     "output_type": "execute_result"
    }
   ],
   "source": [
    "files = glob(\"Focus_data_for testing/*.csv\")\n",
    "files"
   ]
  },
  {
   "cell_type": "code",
   "execution_count": 13,
   "id": "0fb13828-a6f6-430e-a103-d322b435fe96",
   "metadata": {
    "tags": []
   },
   "outputs": [
    {
     "name": "stdout",
     "output_type": "stream",
     "text": [
      "Train set:\n",
      "\t Focus_data_for testing/Copy of eeg_focus_6sessions_cut_S2.csv\n",
      "\tFocus_data_for testing/Copy of eeg_focus_6sessions_cut_S9.csv\n",
      "\tFocus_data_for testing/Copy of eeg_focus_6sessions_cut_S13.csv\n",
      "\tFocus_data_for testing/Copy of eeg_focus_6sessions_cut_S7.csv\n",
      "\tFocus_data_for testing/Copy of eeg_focus_6sessions_cut_S1.csv\n",
      "\tFocus_data_for testing/Copy of eeg_focus_6sessions_cut_S10.csv\n",
      "\tFocus_data_for testing/Copy of eeg_focus_6sessions_cut_S3.csv\n",
      "\tFocus_data_for testing/Copy of eeg_focus_6sessions_cut_S6.csv\n",
      "\tFocus_data_for testing/Copy of eeg_focus_6sessions_cut_S8.csv\n",
      "Test set:\n",
      "\t Focus_data_for testing/Copy of eeg_focus_6sessions_cut_S4.csv\n"
     ]
    }
   ],
   "source": [
    "# Split into training and test sets with ratio 90:10\n",
    "random.shuffle(files)\n",
    "\n",
    "n_train = int(len(files) * 0.9)\n",
    "\n",
    "train_file_paths = files[:n_train]\n",
    "test_file_paths = files[n_train:]\n",
    "\n",
    "print(\"Train set:\\n\\t\", '\\n\\t'.join(train_file_paths))\n",
    "print(\"Test set:\\n\\t\", '\\n\\t'.join(test_file_paths))"
   ]
  },
  {
   "cell_type": "code",
   "execution_count": 14,
   "id": "63c29f18-4eba-41f9-b311-dddd5f61e1f0",
   "metadata": {
    "scrolled": true,
    "tags": []
   },
   "outputs": [
    {
     "name": "stdout",
     "output_type": "stream",
     "text": [
      "[[ 45227  45221  45224 ...  28718  28719  28720]\n",
      " [225459 225503 225471 ... 250466 250454 250462]\n",
      " [  2129   2126   2129 ...    906    904    900]\n",
      " [247006 247044 247017 ... 266979 266968 266984]]\n",
      "Creating RawArray with float64 data, n_channels=4, n_times=84850\n",
      "    Range : 0 ... 84849 =      0.000 ...   678.792 secs\n",
      "Ready.\n",
      "Filtering raw data in 1 contiguous segment\n",
      "Setting up band-pass filter from 8 - 30 Hz\n",
      "\n",
      "FIR filter parameters\n",
      "---------------------\n",
      "Designing a one-pass, zero-phase, non-causal bandpass filter:\n",
      "- Windowed time-domain design (firwin) method\n",
      "- Hamming window with 0.0194 passband ripple and 53 dB stopband attenuation\n",
      "- Lower passband edge: 8.00\n",
      "- Lower transition bandwidth: 2.00 Hz (-6 dB cutoff frequency: 7.00 Hz)\n",
      "- Upper passband edge: 30.00 Hz\n",
      "- Upper transition bandwidth: 7.50 Hz (-6 dB cutoff frequency: 33.75 Hz)\n",
      "- Filter length: 207 samples (1.656 sec)\n",
      "\n",
      "Fitting ICA to data using 4 channels (please be patient, this may take a while)\n",
      "Selecting by number: 4 components\n"
     ]
    },
    {
     "name": "stderr",
     "output_type": "stream",
     "text": [
      "[Parallel(n_jobs=1)]: Using backend SequentialBackend with 1 concurrent workers.\n",
      "[Parallel(n_jobs=1)]: Done   1 out of   1 | elapsed:    0.0s remaining:    0.0s\n",
      "[Parallel(n_jobs=1)]: Done   2 out of   2 | elapsed:    0.0s remaining:    0.0s\n",
      "[Parallel(n_jobs=1)]: Done   3 out of   3 | elapsed:    0.0s remaining:    0.0s\n",
      "[Parallel(n_jobs=1)]: Done   4 out of   4 | elapsed:    0.0s remaining:    0.0s\n",
      "[Parallel(n_jobs=1)]: Done   4 out of   4 | elapsed:    0.0s finished\n"
     ]
    },
    {
     "name": "stdout",
     "output_type": "stream",
     "text": [
      "Fitting ICA took 0.3s.\n",
      "Applying ICA to Raw instance\n",
      "    Transforming to ICA space (4 components)\n",
      "    Zeroing out 0 ICA components\n",
      "    Projecting back using 4 PCA components\n",
      "Not setting metadata\n",
      "678 matching events found\n",
      "No baseline correction applied\n",
      "0 projection items activated\n",
      "Using data from preloaded Raw for 678 events and 126 original time points ...\n",
      "0 bad epochs dropped\n",
      "    Using multitaper spectrum estimation with 7 DPSS windows\n",
      "[[ 21687  21691  21701 ...  21543  21553  21542]\n",
      " [271336 271273 271295 ... 316109 316136 316097]\n",
      " [ 13748  13740  13750 ...  46872  46874  46871]\n",
      " [280848 280799 280887 ... 327257 327174 327220]]\n",
      "Creating RawArray with float64 data, n_channels=4, n_times=83758\n",
      "    Range : 0 ... 83757 =      0.000 ...   670.056 secs\n",
      "Ready.\n",
      "Filtering raw data in 1 contiguous segment\n",
      "Setting up band-pass filter from 8 - 30 Hz\n",
      "\n",
      "FIR filter parameters\n",
      "---------------------\n",
      "Designing a one-pass, zero-phase, non-causal bandpass filter:\n",
      "- Windowed time-domain design (firwin) method\n",
      "- Hamming window with 0.0194 passband ripple and 53 dB stopband attenuation\n",
      "- Lower passband edge: 8.00\n",
      "- Lower transition bandwidth: 2.00 Hz (-6 dB cutoff frequency: 7.00 Hz)\n",
      "- Upper passband edge: 30.00 Hz\n",
      "- Upper transition bandwidth: 7.50 Hz (-6 dB cutoff frequency: 33.75 Hz)\n",
      "- Filter length: 207 samples (1.656 sec)\n",
      "\n",
      "Fitting ICA to data using 4 channels (please be patient, this may take a while)\n",
      "Selecting by number: 4 components\n",
      "Fitting ICA took 0.1s.\n",
      "Applying ICA to Raw instance\n",
      "    Transforming to ICA space (4 components)\n",
      "    Zeroing out 0 ICA components\n",
      "    Projecting back using 4 PCA components\n",
      "Not setting metadata\n",
      "670 matching events found\n",
      "No baseline correction applied\n",
      "0 projection items activated\n",
      "Using data from preloaded Raw for 670 events and 126 original time points ...\n",
      "0 bad epochs dropped\n",
      "    Using multitaper spectrum estimation with 7 DPSS windows\n"
     ]
    },
    {
     "name": "stderr",
     "output_type": "stream",
     "text": [
      "[Parallel(n_jobs=1)]: Using backend SequentialBackend with 1 concurrent workers.\n",
      "[Parallel(n_jobs=1)]: Done   1 out of   1 | elapsed:    0.0s remaining:    0.0s\n",
      "[Parallel(n_jobs=1)]: Done   2 out of   2 | elapsed:    0.0s remaining:    0.0s\n",
      "[Parallel(n_jobs=1)]: Done   3 out of   3 | elapsed:    0.0s remaining:    0.0s\n",
      "[Parallel(n_jobs=1)]: Done   4 out of   4 | elapsed:    0.0s remaining:    0.0s\n",
      "[Parallel(n_jobs=1)]: Done   4 out of   4 | elapsed:    0.0s finished\n"
     ]
    },
    {
     "name": "stdout",
     "output_type": "stream",
     "text": [
      "[[-713847 -713819 -713854 ... -712320 -712315 -712312]\n",
      " [-619124 -619154 -619137 ... -619544 -619678 -619615]\n",
      " [-704357 -704330 -704365 ... -701356 -701351 -701349]\n",
      " [-618986 -618965 -618993 ... -619339 -619336 -619336]]\n",
      "Creating RawArray with float64 data, n_channels=4, n_times=83746\n",
      "    Range : 0 ... 83745 =      0.000 ...   669.960 secs\n",
      "Ready.\n",
      "Filtering raw data in 1 contiguous segment\n",
      "Setting up band-pass filter from 8 - 30 Hz\n",
      "\n",
      "FIR filter parameters\n",
      "---------------------\n",
      "Designing a one-pass, zero-phase, non-causal bandpass filter:\n",
      "- Windowed time-domain design (firwin) method\n",
      "- Hamming window with 0.0194 passband ripple and 53 dB stopband attenuation\n",
      "- Lower passband edge: 8.00\n",
      "- Lower transition bandwidth: 2.00 Hz (-6 dB cutoff frequency: 7.00 Hz)\n",
      "- Upper passband edge: 30.00 Hz\n",
      "- Upper transition bandwidth: 7.50 Hz (-6 dB cutoff frequency: 33.75 Hz)\n",
      "- Filter length: 207 samples (1.656 sec)\n",
      "\n",
      "Fitting ICA to data using 4 channels (please be patient, this may take a while)\n",
      "Selecting by number: 4 components\n",
      "Fitting ICA took 0.1s.\n",
      "Applying ICA to Raw instance\n",
      "    Transforming to ICA space (4 components)\n",
      "    Zeroing out 0 ICA components\n",
      "    Projecting back using 4 PCA components\n",
      "Not setting metadata\n",
      "669 matching events found\n",
      "No baseline correction applied\n",
      "0 projection items activated\n",
      "Using data from preloaded Raw for 669 events and 126 original time points ...\n",
      "0 bad epochs dropped\n",
      "    Using multitaper spectrum estimation with 7 DPSS windows\n"
     ]
    },
    {
     "name": "stderr",
     "output_type": "stream",
     "text": [
      "[Parallel(n_jobs=1)]: Using backend SequentialBackend with 1 concurrent workers.\n",
      "[Parallel(n_jobs=1)]: Done   1 out of   1 | elapsed:    0.0s remaining:    0.0s\n",
      "[Parallel(n_jobs=1)]: Done   2 out of   2 | elapsed:    0.0s remaining:    0.0s\n",
      "[Parallel(n_jobs=1)]: Done   3 out of   3 | elapsed:    0.0s remaining:    0.0s\n",
      "[Parallel(n_jobs=1)]: Done   4 out of   4 | elapsed:    0.0s remaining:    0.0s\n",
      "[Parallel(n_jobs=1)]: Done   4 out of   4 | elapsed:    0.0s finished\n",
      "/var/folders/_d/q7dn4ndj4hbg2g5gvd0j14vw0000gn/T/ipykernel_62179/4049412345.py:6: RuntimeWarning: Using n_components=4 (resulting in n_components_=4) may lead to an unstable mixing matrix estimation because the ratio between the largest (3) and smallest (8.8e-10) variances is too large (> 1e6); consider setting n_components=0.999999 or an integer <= 3\n",
      "  ica.fit(raw_array, picks='eeg')\n"
     ]
    },
    {
     "name": "stdout",
     "output_type": "stream",
     "text": [
      "[[  3292   3295   3299 ...  -2511  -2517  -2514]\n",
      " [321910 322126 321854 ... 321565 321503 321553]\n",
      " [ 30766  30763  30758 ...  32678  32672  32667]\n",
      " [354126 354190 354128 ... 349739 349706 349725]]\n",
      "Creating RawArray with float64 data, n_channels=4, n_times=83192\n",
      "    Range : 0 ... 83191 =      0.000 ...   665.528 secs\n",
      "Ready.\n",
      "Filtering raw data in 1 contiguous segment\n",
      "Setting up band-pass filter from 8 - 30 Hz\n",
      "\n",
      "FIR filter parameters\n",
      "---------------------\n",
      "Designing a one-pass, zero-phase, non-causal bandpass filter:\n",
      "- Windowed time-domain design (firwin) method\n",
      "- Hamming window with 0.0194 passband ripple and 53 dB stopband attenuation\n",
      "- Lower passband edge: 8.00\n",
      "- Lower transition bandwidth: 2.00 Hz (-6 dB cutoff frequency: 7.00 Hz)\n",
      "- Upper passband edge: 30.00 Hz\n",
      "- Upper transition bandwidth: 7.50 Hz (-6 dB cutoff frequency: 33.75 Hz)\n",
      "- Filter length: 207 samples (1.656 sec)\n",
      "\n",
      "Fitting ICA to data using 4 channels (please be patient, this may take a while)\n",
      "Selecting by number: 4 components\n",
      "Fitting ICA took 0.1s.\n",
      "Applying ICA to Raw instance\n",
      "    Transforming to ICA space (4 components)\n",
      "    Zeroing out 0 ICA components\n",
      "    Projecting back using 4 PCA components\n",
      "Not setting metadata\n",
      "665 matching events found\n",
      "No baseline correction applied\n",
      "0 projection items activated\n",
      "Using data from preloaded Raw for 665 events and 126 original time points ...\n",
      "0 bad epochs dropped\n",
      "    Using multitaper spectrum estimation with 7 DPSS windows\n"
     ]
    },
    {
     "name": "stderr",
     "output_type": "stream",
     "text": [
      "[Parallel(n_jobs=1)]: Using backend SequentialBackend with 1 concurrent workers.\n",
      "[Parallel(n_jobs=1)]: Done   1 out of   1 | elapsed:    0.0s remaining:    0.0s\n",
      "[Parallel(n_jobs=1)]: Done   2 out of   2 | elapsed:    0.0s remaining:    0.0s\n",
      "[Parallel(n_jobs=1)]: Done   3 out of   3 | elapsed:    0.0s remaining:    0.0s\n",
      "[Parallel(n_jobs=1)]: Done   4 out of   4 | elapsed:    0.0s remaining:    0.0s\n",
      "[Parallel(n_jobs=1)]: Done   4 out of   4 | elapsed:    0.0s finished\n"
     ]
    },
    {
     "name": "stdout",
     "output_type": "stream",
     "text": [
      "[[ 26948  26945  26946 ...  32710  32709  32711]\n",
      " [490905 490899 490901 ... 482544 482563 482521]\n",
      " [ 64774  64775  64773 ...  85740  85742  85742]\n",
      " [475718 475718 475735 ... 469715 469718 469676]]\n",
      "Creating RawArray with float64 data, n_channels=4, n_times=85057\n",
      "    Range : 0 ... 85056 =      0.000 ...   680.448 secs\n",
      "Ready.\n",
      "Filtering raw data in 1 contiguous segment\n",
      "Setting up band-pass filter from 8 - 30 Hz\n",
      "\n",
      "FIR filter parameters\n",
      "---------------------\n",
      "Designing a one-pass, zero-phase, non-causal bandpass filter:\n",
      "- Windowed time-domain design (firwin) method\n",
      "- Hamming window with 0.0194 passband ripple and 53 dB stopband attenuation\n",
      "- Lower passband edge: 8.00\n",
      "- Lower transition bandwidth: 2.00 Hz (-6 dB cutoff frequency: 7.00 Hz)\n",
      "- Upper passband edge: 30.00 Hz\n",
      "- Upper transition bandwidth: 7.50 Hz (-6 dB cutoff frequency: 33.75 Hz)\n",
      "- Filter length: 207 samples (1.656 sec)\n",
      "\n",
      "Fitting ICA to data using 4 channels (please be patient, this may take a while)\n",
      "Selecting by number: 4 components\n",
      "Fitting ICA took 0.1s.\n",
      "Applying ICA to Raw instance\n",
      "    Transforming to ICA space (4 components)\n",
      "    Zeroing out 0 ICA components\n",
      "    Projecting back using 4 PCA components\n",
      "Not setting metadata\n",
      "680 matching events found\n",
      "No baseline correction applied\n",
      "0 projection items activated\n",
      "Using data from preloaded Raw for 680 events and 126 original time points ...\n",
      "0 bad epochs dropped\n",
      "    Using multitaper spectrum estimation with 7 DPSS windows\n"
     ]
    },
    {
     "name": "stderr",
     "output_type": "stream",
     "text": [
      "[Parallel(n_jobs=1)]: Using backend SequentialBackend with 1 concurrent workers.\n",
      "[Parallel(n_jobs=1)]: Done   1 out of   1 | elapsed:    0.0s remaining:    0.0s\n",
      "[Parallel(n_jobs=1)]: Done   2 out of   2 | elapsed:    0.0s remaining:    0.0s\n",
      "[Parallel(n_jobs=1)]: Done   3 out of   3 | elapsed:    0.0s remaining:    0.0s\n",
      "[Parallel(n_jobs=1)]: Done   4 out of   4 | elapsed:    0.0s remaining:    0.0s\n",
      "[Parallel(n_jobs=1)]: Done   4 out of   4 | elapsed:    0.0s finished\n"
     ]
    },
    {
     "name": "stdout",
     "output_type": "stream",
     "text": [
      "[[ 41793  41809  41821 ...  23628  23635  23672]\n",
      " [319562 323270 322219 ... 303898 306789 305322]\n",
      " [ 25925  25918  25923 ...   3666   3651   3669]\n",
      " [340254 341793 341072 ... 323353 327476 326396]]\n",
      "Creating RawArray with float64 data, n_channels=4, n_times=73289\n",
      "    Range : 0 ... 73288 =      0.000 ...   586.304 secs\n",
      "Ready.\n",
      "Filtering raw data in 1 contiguous segment\n",
      "Setting up band-pass filter from 8 - 30 Hz\n",
      "\n",
      "FIR filter parameters\n",
      "---------------------\n",
      "Designing a one-pass, zero-phase, non-causal bandpass filter:\n",
      "- Windowed time-domain design (firwin) method\n",
      "- Hamming window with 0.0194 passband ripple and 53 dB stopband attenuation\n",
      "- Lower passband edge: 8.00\n",
      "- Lower transition bandwidth: 2.00 Hz (-6 dB cutoff frequency: 7.00 Hz)\n",
      "- Upper passband edge: 30.00 Hz\n",
      "- Upper transition bandwidth: 7.50 Hz (-6 dB cutoff frequency: 33.75 Hz)\n",
      "- Filter length: 207 samples (1.656 sec)\n",
      "\n",
      "Fitting ICA to data using 4 channels (please be patient, this may take a while)\n",
      "Selecting by number: 4 components\n",
      "Fitting ICA took 0.1s.\n",
      "Applying ICA to Raw instance\n",
      "    Transforming to ICA space (4 components)\n",
      "    Zeroing out 0 ICA components\n",
      "    Projecting back using 4 PCA components\n",
      "Not setting metadata\n",
      "586 matching events found\n",
      "No baseline correction applied\n",
      "0 projection items activated\n",
      "Using data from preloaded Raw for 586 events and 126 original time points ...\n",
      "0 bad epochs dropped\n",
      "    Using multitaper spectrum estimation with 7 DPSS windows\n"
     ]
    },
    {
     "name": "stderr",
     "output_type": "stream",
     "text": [
      "[Parallel(n_jobs=1)]: Using backend SequentialBackend with 1 concurrent workers.\n",
      "[Parallel(n_jobs=1)]: Done   1 out of   1 | elapsed:    0.0s remaining:    0.0s\n",
      "[Parallel(n_jobs=1)]: Done   2 out of   2 | elapsed:    0.0s remaining:    0.0s\n",
      "[Parallel(n_jobs=1)]: Done   3 out of   3 | elapsed:    0.0s remaining:    0.0s\n",
      "[Parallel(n_jobs=1)]: Done   4 out of   4 | elapsed:    0.0s remaining:    0.0s\n",
      "[Parallel(n_jobs=1)]: Done   4 out of   4 | elapsed:    0.0s finished\n"
     ]
    },
    {
     "name": "stdout",
     "output_type": "stream",
     "text": [
      "[[   440    441    442 ...  -8165  -8144  -8148]\n",
      " [265566 265493 265522 ... 261730 261829 261852]\n",
      " [ 32839  32841  32847 ...  22267  22259  22266]\n",
      " [255297 255272 255290 ... 255293 255435 255410]]\n",
      "Creating RawArray with float64 data, n_channels=4, n_times=77889\n",
      "    Range : 0 ... 77888 =      0.000 ...   623.104 secs\n",
      "Ready.\n",
      "Filtering raw data in 1 contiguous segment\n",
      "Setting up band-pass filter from 8 - 30 Hz\n",
      "\n",
      "FIR filter parameters\n",
      "---------------------\n",
      "Designing a one-pass, zero-phase, non-causal bandpass filter:\n",
      "- Windowed time-domain design (firwin) method\n",
      "- Hamming window with 0.0194 passband ripple and 53 dB stopband attenuation\n",
      "- Lower passband edge: 8.00\n",
      "- Lower transition bandwidth: 2.00 Hz (-6 dB cutoff frequency: 7.00 Hz)\n",
      "- Upper passband edge: 30.00 Hz\n",
      "- Upper transition bandwidth: 7.50 Hz (-6 dB cutoff frequency: 33.75 Hz)\n",
      "- Filter length: 207 samples (1.656 sec)\n",
      "\n",
      "Fitting ICA to data using 4 channels (please be patient, this may take a while)\n",
      "Selecting by number: 4 components\n",
      "Fitting ICA took 0.1s.\n",
      "Applying ICA to Raw instance\n",
      "    Transforming to ICA space (4 components)\n",
      "    Zeroing out 0 ICA components\n",
      "    Projecting back using 4 PCA components\n",
      "Not setting metadata\n",
      "623 matching events found\n",
      "No baseline correction applied\n",
      "0 projection items activated\n",
      "Using data from preloaded Raw for 623 events and 126 original time points ...\n",
      "0 bad epochs dropped\n",
      "    Using multitaper spectrum estimation with 7 DPSS windows\n"
     ]
    },
    {
     "name": "stderr",
     "output_type": "stream",
     "text": [
      "[Parallel(n_jobs=1)]: Using backend SequentialBackend with 1 concurrent workers.\n",
      "[Parallel(n_jobs=1)]: Done   1 out of   1 | elapsed:    0.0s remaining:    0.0s\n",
      "[Parallel(n_jobs=1)]: Done   2 out of   2 | elapsed:    0.0s remaining:    0.0s\n",
      "[Parallel(n_jobs=1)]: Done   3 out of   3 | elapsed:    0.0s remaining:    0.0s\n",
      "[Parallel(n_jobs=1)]: Done   4 out of   4 | elapsed:    0.0s remaining:    0.0s\n",
      "[Parallel(n_jobs=1)]: Done   4 out of   4 | elapsed:    0.0s finished\n"
     ]
    },
    {
     "name": "stdout",
     "output_type": "stream",
     "text": [
      "[[  17699   17704   17702 ... -565656 -560247 -554532]\n",
      " [ 292520  293178  291859 ... -565432 -560025 -554313]\n",
      " [  -4668   -4659   -4661 ...  749999  749999  749999]\n",
      " [ 324828  324852  324816 ... -566229 -560815 -555095]]\n",
      "Creating RawArray with float64 data, n_channels=4, n_times=84800\n",
      "    Range : 0 ... 84799 =      0.000 ...   678.392 secs\n",
      "Ready.\n",
      "Filtering raw data in 1 contiguous segment\n",
      "Setting up band-pass filter from 8 - 30 Hz\n",
      "\n",
      "FIR filter parameters\n",
      "---------------------\n",
      "Designing a one-pass, zero-phase, non-causal bandpass filter:\n",
      "- Windowed time-domain design (firwin) method\n",
      "- Hamming window with 0.0194 passband ripple and 53 dB stopband attenuation\n",
      "- Lower passband edge: 8.00\n",
      "- Lower transition bandwidth: 2.00 Hz (-6 dB cutoff frequency: 7.00 Hz)\n",
      "- Upper passband edge: 30.00 Hz\n",
      "- Upper transition bandwidth: 7.50 Hz (-6 dB cutoff frequency: 33.75 Hz)\n",
      "- Filter length: 207 samples (1.656 sec)\n",
      "\n",
      "Fitting ICA to data using 4 channels (please be patient, this may take a while)\n",
      "Selecting by number: 4 components\n",
      "Fitting ICA took 0.0s.\n",
      "Applying ICA to Raw instance\n",
      "    Transforming to ICA space (4 components)\n",
      "    Zeroing out 0 ICA components\n",
      "    Projecting back using 4 PCA components\n",
      "Not setting metadata\n",
      "678 matching events found\n",
      "No baseline correction applied\n",
      "0 projection items activated\n",
      "Using data from preloaded Raw for 678 events and 126 original time points ...\n",
      "0 bad epochs dropped\n",
      "    Using multitaper spectrum estimation with 7 DPSS windows\n",
      "[[ 47124  47119  47125 ...  30274  30282  30295]\n",
      " [320254 318529 324047 ... 336389 338324 337129]\n",
      " [ 31239  31230  31228 ...  24367  24365  24369]\n",
      " [340808 340646 341003 ... 358061 358129 358097]]\n",
      "Creating RawArray with float64 data, n_channels=4, n_times=78638\n",
      "    Range : 0 ... 78637 =      0.000 ...   629.096 secs\n",
      "Ready.\n",
      "Filtering raw data in 1 contiguous segment\n",
      "Setting up band-pass filter from 8 - 30 Hz\n",
      "\n",
      "FIR filter parameters\n",
      "---------------------\n",
      "Designing a one-pass, zero-phase, non-causal bandpass filter:\n",
      "- Windowed time-domain design (firwin) method\n",
      "- Hamming window with 0.0194 passband ripple and 53 dB stopband attenuation\n",
      "- Lower passband edge: 8.00\n",
      "- Lower transition bandwidth: 2.00 Hz (-6 dB cutoff frequency: 7.00 Hz)\n",
      "- Upper passband edge: 30.00 Hz\n",
      "- Upper transition bandwidth: 7.50 Hz (-6 dB cutoff frequency: 33.75 Hz)\n",
      "- Filter length: 207 samples (1.656 sec)\n",
      "\n",
      "Fitting ICA to data using 4 channels (please be patient, this may take a while)\n"
     ]
    },
    {
     "name": "stderr",
     "output_type": "stream",
     "text": [
      "[Parallel(n_jobs=1)]: Using backend SequentialBackend with 1 concurrent workers.\n",
      "[Parallel(n_jobs=1)]: Done   1 out of   1 | elapsed:    0.0s remaining:    0.0s\n",
      "[Parallel(n_jobs=1)]: Done   2 out of   2 | elapsed:    0.0s remaining:    0.0s\n",
      "[Parallel(n_jobs=1)]: Done   3 out of   3 | elapsed:    0.0s remaining:    0.0s\n",
      "[Parallel(n_jobs=1)]: Done   4 out of   4 | elapsed:    0.0s remaining:    0.0s\n",
      "[Parallel(n_jobs=1)]: Done   4 out of   4 | elapsed:    0.0s finished\n",
      "[Parallel(n_jobs=1)]: Using backend SequentialBackend with 1 concurrent workers.\n",
      "[Parallel(n_jobs=1)]: Done   1 out of   1 | elapsed:    0.0s remaining:    0.0s\n",
      "[Parallel(n_jobs=1)]: Done   2 out of   2 | elapsed:    0.0s remaining:    0.0s\n",
      "[Parallel(n_jobs=1)]: Done   3 out of   3 | elapsed:    0.0s remaining:    0.0s\n",
      "[Parallel(n_jobs=1)]: Done   4 out of   4 | elapsed:    0.0s remaining:    0.0s\n",
      "[Parallel(n_jobs=1)]: Done   4 out of   4 | elapsed:    0.0s finished\n"
     ]
    },
    {
     "name": "stdout",
     "output_type": "stream",
     "text": [
      "Selecting by number: 4 components\n",
      "Fitting ICA took 0.1s.\n",
      "Applying ICA to Raw instance\n",
      "    Transforming to ICA space (4 components)\n",
      "    Zeroing out 0 ICA components\n",
      "    Projecting back using 4 PCA components\n",
      "Not setting metadata\n",
      "629 matching events found\n",
      "No baseline correction applied\n",
      "0 projection items activated\n",
      "Using data from preloaded Raw for 629 events and 126 original time points ...\n",
      "0 bad epochs dropped\n",
      "    Using multitaper spectrum estimation with 7 DPSS windows\n"
     ]
    }
   ],
   "source": [
    "X_train, y_train = [], []\n",
    "for file in train_file_paths:\n",
    "    samples, scores = extract_data_from_csv(file)\n",
    "    X_train.extend(samples)\n",
    "    y_train.extend(scores)\n",
    "    \n",
    "X_train = np.array(X_train)\n",
    "y_train = np.array(y_train)"
   ]
  },
  {
   "cell_type": "code",
   "execution_count": 15,
   "id": "15b7fd0f-6702-4837-9a2b-43d4c890b83a",
   "metadata": {
    "scrolled": true,
    "tags": []
   },
   "outputs": [
    {
     "data": {
      "text/plain": [
       "(583,)"
      ]
     },
     "execution_count": 15,
     "metadata": {},
     "output_type": "execute_result"
    }
   ],
   "source": [
    "y_train.shape"
   ]
  },
  {
   "cell_type": "markdown",
   "id": "9e17215e-33b2-4a06-9fb1-3ce01c6067af",
   "metadata": {
    "tags": []
   },
   "source": [
    "### Modeling and training"
   ]
  },
  {
   "cell_type": "code",
   "execution_count": 58,
   "id": "7b9410da-7649-4295-b096-1b7cc9b52753",
   "metadata": {
    "tags": []
   },
   "outputs": [],
   "source": [
    "batch_size = 36\n",
    "input_size = X_train.shape[-1]\n",
    "output_size = 4\n",
    "hidden_size = 36\n",
    "num_epochs = 50\n",
    "learning_rate = 0.0005\n",
    "lstm_num_layers = 2"
   ]
  },
  {
   "cell_type": "code",
   "execution_count": 59,
   "id": "40dfee18-c1f4-4a53-a036-c9483b556f85",
   "metadata": {
    "tags": []
   },
   "outputs": [],
   "source": [
    "class EEGFocusLSTM(nn.Module):\n",
    "    def __init__(self, input_size, hidden_size, num_layers, output_size):\n",
    "        super(EEGFocusLSTM, self).__init__()\n",
    "        self.hidden_size = hidden_size\n",
    "        self.num_layers = num_layers\n",
    "        self.lstm = nn.LSTM(input_size, hidden_size, num_layers, batch_first=True)\n",
    "        self.fc1 = nn.Linear(hidden_size, 512)\n",
    "        self.fc2 = nn.Linear(512, 256)\n",
    "        self.fc3 = nn.Linear(256, output_size)\n",
    "        self.relu = nn.ReLU()\n",
    "        self.dropout = nn.Dropout(0.5)\n",
    "\n",
    "    def forward(self, x):\n",
    "        # Set initial hidden and cell states \n",
    "        h0 = torch.zeros(self.num_layers, x.size(0), self.hidden_size).to(x.device)\n",
    "        c0 = torch.zeros(self.num_layers, x.size(0), self.hidden_size).to(x.device)\n",
    "\n",
    "        # Forward propagate LSTM\n",
    "        out, _ = self.lstm(x, (h0, c0))\n",
    "\n",
    "        # Apply fully connected layers with dropout and ReLU activation\n",
    "        out = self.dropout(self.relu(self.fc1(out[:, -1, :])))\n",
    "        out = self.dropout(self.relu(self.fc2(out)))\n",
    "        out = self.fc3(out)\n",
    "\n",
    "        return out"
   ]
  },
  {
   "cell_type": "code",
   "execution_count": 60,
   "id": "cbc65004-c29f-4806-bd59-09733a4dd3b9",
   "metadata": {
    "tags": []
   },
   "outputs": [],
   "source": [
    "# create PyTorch dataset and dataloader\n",
    "train_data = torch.tensor(X_train, dtype=torch.float32)\n",
    "dataset = torch.utils.data.TensorDataset(train_data, torch.from_numpy(y_train).long())\n",
    "dataloader = torch.utils.data.DataLoader(dataset, batch_size=batch_size, shuffle=True)"
   ]
  },
  {
   "cell_type": "code",
   "execution_count": null,
   "id": "37bb7b1f-78be-4fe9-82b5-e25dacfd4211",
   "metadata": {
    "tags": []
   },
   "outputs": [],
   "source": []
  },
  {
   "cell_type": "code",
   "execution_count": 61,
   "id": "01147b9e-8199-4ba9-af81-0681ac9d73ed",
   "metadata": {
    "tags": []
   },
   "outputs": [],
   "source": [
    "model = EEGFocusLSTM(input_size, hidden_size, lstm_num_layers, output_size)\n",
    "\n",
    "# Define loss function and optimizer\n",
    "# criterion = nn.MSELoss()\n",
    "criterion = nn.CrossEntropyLoss()\n",
    "optimizer = optim.Adam(model.parameters(), lr=learning_rate)"
   ]
  },
  {
   "cell_type": "code",
   "execution_count": 62,
   "id": "c56771c2-91be-4b75-9efb-ee71ef47ae21",
   "metadata": {
    "scrolled": true,
    "tags": []
   },
   "outputs": [
    {
     "name": "stdout",
     "output_type": "stream",
     "text": [
      "Epoch [1/50], Loss: 0.0388, train_acc: 0.411663807890223\n",
      "Epoch [2/50], Loss: 0.0381, train_acc: 0.444253859348199\n",
      "Epoch [3/50], Loss: 0.0372, train_acc: 0.444253859348199\n",
      "Epoch [4/50], Loss: 0.0372, train_acc: 0.444253859348199\n",
      "Epoch [5/50], Loss: 0.0357, train_acc: 0.4751286449399657\n",
      "Epoch [6/50], Loss: 0.0344, train_acc: 0.5265866209262435\n",
      "Epoch [7/50], Loss: 0.0329, train_acc: 0.548885077186964\n",
      "Epoch [8/50], Loss: 0.0295, train_acc: 0.5900514579759862\n",
      "Epoch [9/50], Loss: 0.0309, train_acc: 0.5643224699828473\n",
      "Epoch [10/50], Loss: 0.0293, train_acc: 0.5763293310463122\n",
      "Epoch [11/50], Loss: 0.0290, train_acc: 0.5866209262435678\n",
      "Epoch [12/50], Loss: 0.0299, train_acc: 0.5694682675814752\n",
      "Epoch [13/50], Loss: 0.0271, train_acc: 0.5969125214408233\n",
      "Epoch [14/50], Loss: 0.0267, train_acc: 0.6243567753001715\n",
      "Epoch [15/50], Loss: 0.0269, train_acc: 0.62778730703259\n",
      "Epoch [16/50], Loss: 0.0259, train_acc: 0.6157804459691252\n",
      "Epoch [17/50], Loss: 0.0264, train_acc: 0.6397941680960549\n",
      "Epoch [18/50], Loss: 0.0251, train_acc: 0.62778730703259\n",
      "Epoch [19/50], Loss: 0.0256, train_acc: 0.62778730703259\n",
      "Epoch [20/50], Loss: 0.0258, train_acc: 0.6157804459691252\n",
      "Epoch [21/50], Loss: 0.0259, train_acc: 0.6174957118353345\n",
      "Epoch [22/50], Loss: 0.0260, train_acc: 0.6072041166380789\n",
      "Epoch [23/50], Loss: 0.0252, train_acc: 0.6346483704974271\n",
      "Epoch [24/50], Loss: 0.0244, train_acc: 0.6466552315608919\n",
      "Epoch [25/50], Loss: 0.0239, train_acc: 0.6569468267581475\n",
      "Epoch [26/50], Loss: 0.0239, train_acc: 0.6449399656946827\n",
      "Epoch [27/50], Loss: 0.0233, train_acc: 0.660377358490566\n",
      "Epoch [28/50], Loss: 0.0243, train_acc: 0.6706689536878216\n",
      "Epoch [29/50], Loss: 0.0246, train_acc: 0.6500857632933105\n",
      "Epoch [30/50], Loss: 0.0238, train_acc: 0.6552315608919382\n",
      "Epoch [31/50], Loss: 0.0243, train_acc: 0.6655231560891939\n",
      "Epoch [32/50], Loss: 0.0235, train_acc: 0.6655231560891939\n",
      "Epoch [33/50], Loss: 0.0224, train_acc: 0.6586620926243568\n",
      "Epoch [34/50], Loss: 0.0232, train_acc: 0.6500857632933105\n",
      "Epoch [35/50], Loss: 0.0219, train_acc: 0.6843910806174958\n",
      "Epoch [36/50], Loss: 0.0216, train_acc: 0.6878216123499142\n",
      "Epoch [37/50], Loss: 0.0211, train_acc: 0.6981132075471698\n",
      "Epoch [38/50], Loss: 0.0217, train_acc: 0.6912521440823327\n",
      "Epoch [39/50], Loss: 0.0214, train_acc: 0.6998284734133791\n",
      "Epoch [40/50], Loss: 0.0214, train_acc: 0.7084048027444254\n",
      "Epoch [41/50], Loss: 0.0219, train_acc: 0.6843910806174958\n",
      "Epoch [42/50], Loss: 0.0223, train_acc: 0.692967409948542\n",
      "Epoch [43/50], Loss: 0.0210, train_acc: 0.6826758147512865\n",
      "Epoch [44/50], Loss: 0.0204, train_acc: 0.7015437392795884\n",
      "Epoch [45/50], Loss: 0.0198, train_acc: 0.7066895368782161\n",
      "Epoch [46/50], Loss: 0.0207, train_acc: 0.6998284734133791\n",
      "Epoch [47/50], Loss: 0.0197, train_acc: 0.7032590051457976\n",
      "Epoch [48/50], Loss: 0.0199, train_acc: 0.7204116638078902\n",
      "Epoch [49/50], Loss: 0.0196, train_acc: 0.6946826758147513\n",
      "Epoch [50/50], Loss: 0.0201, train_acc: 0.6998284734133791\n"
     ]
    }
   ],
   "source": [
    "# Training loop\n",
    "for epoch in range(num_epochs):\n",
    "    train_loss = 0.0\n",
    "    train_acc = 0.0\n",
    "    model.train()\n",
    "    for i, (inputs, targets) in enumerate(dataloader):\n",
    "        # forward + backward + optimize\n",
    "        outputs = model(inputs)\n",
    "        loss = criterion(outputs, targets)\n",
    "        optimizer.zero_grad()\n",
    "        loss.backward()\n",
    "        optimizer.step()\n",
    "        train_loss += loss.item()\n",
    "        _, preds = torch.max(outputs, 1)\n",
    "        train_acc += torch.sum(preds == targets).item()\n",
    "    train_loss /= len(dataloader.dataset)\n",
    "    train_acc /= len(dataloader.dataset)\n",
    "    print('Epoch [{}/{}], Loss: {:.4f}, train_acc: {}'.format(epoch+1, num_epochs, train_loss, train_acc))\n"
   ]
  },
  {
   "cell_type": "markdown",
   "id": "235a3f2c-01c8-4e91-8059-39a3e0d5553a",
   "metadata": {},
   "source": [
    "### Evaluation"
   ]
  },
  {
   "cell_type": "code",
   "execution_count": 63,
   "id": "39395022-df1f-4324-9757-0e5be11b8b2a",
   "metadata": {
    "scrolled": true,
    "tags": []
   },
   "outputs": [
    {
     "name": "stdout",
     "output_type": "stream",
     "text": [
      "[[  3931   3928   3933 ...   1442   1452   1449]\n",
      " [287429 287614 287570 ... 297867 297499 297555]\n",
      " [ 54069  54065  54072 ...  52651  52659  52653]\n",
      " [319177 319210 319210 ... 328467 328475 328459]]\n",
      "Creating RawArray with float64 data, n_channels=4, n_times=78829\n",
      "    Range : 0 ... 78828 =      0.000 ...   630.624 secs\n",
      "Ready.\n",
      "Filtering raw data in 1 contiguous segment\n",
      "Setting up band-pass filter from 8 - 30 Hz\n",
      "\n",
      "FIR filter parameters\n",
      "---------------------\n",
      "Designing a one-pass, zero-phase, non-causal bandpass filter:\n",
      "- Windowed time-domain design (firwin) method\n",
      "- Hamming window with 0.0194 passband ripple and 53 dB stopband attenuation\n",
      "- Lower passband edge: 8.00\n",
      "- Lower transition bandwidth: 2.00 Hz (-6 dB cutoff frequency: 7.00 Hz)\n",
      "- Upper passband edge: 30.00 Hz\n",
      "- Upper transition bandwidth: 7.50 Hz (-6 dB cutoff frequency: 33.75 Hz)\n",
      "- Filter length: 207 samples (1.656 sec)\n",
      "\n",
      "Fitting ICA to data using 4 channels (please be patient, this may take a while)\n",
      "Selecting by number: 4 components\n",
      "Fitting ICA took 0.1s.\n",
      "Applying ICA to Raw instance\n",
      "    Transforming to ICA space (4 components)\n",
      "    Zeroing out 0 ICA components\n",
      "    Projecting back using 4 PCA components\n",
      "Not setting metadata\n",
      "630 matching events found\n",
      "No baseline correction applied\n",
      "0 projection items activated\n",
      "Using data from preloaded Raw for 630 events and 126 original time points ...\n"
     ]
    },
    {
     "name": "stderr",
     "output_type": "stream",
     "text": [
      "[Parallel(n_jobs=1)]: Using backend SequentialBackend with 1 concurrent workers.\n",
      "[Parallel(n_jobs=1)]: Done   1 out of   1 | elapsed:    0.0s remaining:    0.0s\n",
      "[Parallel(n_jobs=1)]: Done   2 out of   2 | elapsed:    0.0s remaining:    0.0s\n",
      "[Parallel(n_jobs=1)]: Done   3 out of   3 | elapsed:    0.0s remaining:    0.0s\n",
      "[Parallel(n_jobs=1)]: Done   4 out of   4 | elapsed:    0.0s remaining:    0.0s\n",
      "[Parallel(n_jobs=1)]: Done   4 out of   4 | elapsed:    0.0s finished\n"
     ]
    },
    {
     "name": "stdout",
     "output_type": "stream",
     "text": [
      "0 bad epochs dropped\n",
      "    Using multitaper spectrum estimation with 7 DPSS windows\n"
     ]
    }
   ],
   "source": [
    "X_test, y_test = [], []\n",
    "for file in test_file_paths:\n",
    "    samples, scores = extract_data_from_csv(file)\n",
    "    X_test.append(samples)\n",
    "    y_test.append(scores)"
   ]
  },
  {
   "cell_type": "code",
   "execution_count": null,
   "id": "4c491299-79e5-46f6-8b99-86005b8bd13b",
   "metadata": {},
   "outputs": [],
   "source": []
  },
  {
   "cell_type": "code",
   "execution_count": null,
   "id": "8518cd28-ef44-44fd-9050-9ff756d4a062",
   "metadata": {},
   "outputs": [],
   "source": []
  },
  {
   "cell_type": "code",
   "execution_count": null,
   "id": "576701c4-697f-44bb-9bae-44d8ec11cce8",
   "metadata": {},
   "outputs": [],
   "source": []
  },
  {
   "cell_type": "markdown",
   "id": "253ee87c-22c2-493b-94ff-059364dc2ee2",
   "metadata": {},
   "source": [
    "<b>Pearson correlation coefficient</b> can captures the degree to which two variables move in the same direction. If two variables are positively correlated, then an increase in one variable is associated with an increase in the other variable, while a decrease in one variable is associated with a decrease in the other variable. This indicates a trend of movement in the same direction.<br>\n",
    "So in this case, <b>to measure the trend increasing from eye closed to immersion</b>, I'm going to use Pearson correlation coefficient."
   ]
  },
  {
   "cell_type": "code",
   "execution_count": 64,
   "id": "a8fda66c-dfb4-47df-8799-8475a210a9ea",
   "metadata": {
    "tags": []
   },
   "outputs": [
    {
     "name": "stdout",
     "output_type": "stream",
     "text": [
      "File:  Focus_data_for testing/Copy of eeg_focus_6sessions_cut_S4.csv\n",
      "Pearson correlation coefficient: 0.6472323475262727\n",
      "p-value: 9.92578343668047e-09\n"
     ]
    }
   ],
   "source": [
    "model.eval()\n",
    "for idx in range(len(X_test)):\n",
    "    print(\"File: \", test_file_paths[idx])\n",
    "    output = model(torch.tensor(X_test[idx], dtype=torch.float32))\n",
    "    _, preds = torch.max(output, 1)\n",
    "    corr_coef, p_value = pearsonr(preds, y_test[idx])\n",
    "\n",
    "    print(\"Pearson correlation coefficient:\", corr_coef)\n",
    "    print(\"p-value:\", p_value)"
   ]
  },
  {
   "cell_type": "code",
   "execution_count": null,
   "id": "a6037880-f612-40ac-b0ca-ed5e3cd9528e",
   "metadata": {
    "tags": []
   },
   "outputs": [],
   "source": []
  },
  {
   "cell_type": "code",
   "execution_count": null,
   "id": "36750565-36e1-4fc4-99ce-862a0d6f3e49",
   "metadata": {
    "tags": []
   },
   "outputs": [],
   "source": []
  },
  {
   "cell_type": "code",
   "execution_count": null,
   "id": "37ee40da-d517-4d11-87b1-f80ea327d338",
   "metadata": {},
   "outputs": [],
   "source": []
  },
  {
   "cell_type": "code",
   "execution_count": null,
   "id": "19e53d52-e780-4217-8fcb-1693660a19c6",
   "metadata": {},
   "outputs": [],
   "source": []
  }
 ],
 "metadata": {
  "kernelspec": {
   "display_name": "Python 3 (ipykernel)",
   "language": "python",
   "name": "python3"
  },
  "language_info": {
   "codemirror_mode": {
    "name": "ipython",
    "version": 3
   },
   "file_extension": ".py",
   "mimetype": "text/x-python",
   "name": "python",
   "nbconvert_exporter": "python",
   "pygments_lexer": "ipython3",
   "version": "3.9.16"
  }
 },
 "nbformat": 4,
 "nbformat_minor": 5
}
